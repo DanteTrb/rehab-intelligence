{
 "cells": [
  {
   "cell_type": "code",
   "execution_count": 2,
   "metadata": {},
   "outputs": [],
   "source": [
    "import pandas as pd\n",
    "\n",
    "df = pd.read_parquet(\"../data/processed/RM_Dimessi_clean.parquet\")"
   ]
  },
  {
   "cell_type": "code",
   "execution_count": 3,
   "metadata": {},
   "outputs": [
    {
     "name": "stdout",
     "output_type": "stream",
     "text": [
      "['anno', 'età del paziente dimesso', 'sesso', 'comnas', 'comres', 'cirrom', 'cittad', 'staciv', 'titstu', 'profes', 'profes1', 'profes2', 'data_decesso', 'data_inser', 'id', 'data_ins', 'anni_paz', 'codirc', 'polo', 'specrep', 'reparto', 'proric', 'datric', 'regime', 'onere', 'tip_attestato', 'cciec', 'ist_competente', 'cod_qual_ben', 'cod_attestato', 'data_fine_valid', 'tessera_team', 'identificativo_pers', 'prov', 'ircpro', 'reppro', 'proricpro', 'regimepro', 'modacc', 'tempo', 'patriab', 'diapri', 'diase1', 'diase2', 'diase3', 'diase4', 'diase5', 'diase6', 'diase7', 'diase8', 'cognric', 'compric', 'comlingric', 'sensric', 'manipric', 'equilric', 'locomric', 'cardiovric', 'respirric', 'cuteric', 'contrsfinric', 'catvescric', 'nutrric', 'trachric', 'postcomric', 'mieloric', 'bartric1', 'bartric2', 'bartric3', 'bartric4', 'bartric5', 'bartric6', 'bartric7', 'bartric8', 'bartric9', 'bartric10', 'bartric11', 'mwt_metri', 'mwt_borg', 'gosric', 'lcfric', 'totale_drsric', 'GCA', 'GCS', 'DCA', 'totale_scimric', 'GM', 'ASIAric', 'id_dim', 'data_ins_dim', 'datdim', 'tipdim', 'irctra', 'codreptrasf', 'poadim', 'codpoa1', 'codpoa2', 'riabdim', 'condabit', 'patintdim1', 'patintdim2', 'patintdim3', 'diagndim', 'accedh', 'intproc1', 'intproc2', 'intproc3', 'intproc4', 'intproc5', 'intproc6', 'intproc7', 'intproc8', 'intproc9', 'intproc10', 'bartdim1', 'bartdim2', 'bartdim3', 'bartdim4', 'bartdim5', 'bartdim6', 'bartdim7', 'bartdim8', 'bartdim9', 'bartdim10', 'bartdim11', 'mwtdim_metri', 'mwtdim_borg', 'gosdim', 'lcfdim', 'totale_drsdim', 'totale_scimdim', 'ASIAdim', 'drg', 'mdc', 'errcod', 'terapia', 'tiptar', 'degenza', 'data_elab', 'patient_id']\n"
     ]
    }
   ],
   "source": [
    "# Visualizza tutte le colonne disponibili\n",
    "print(df.columns.tolist())"
   ]
  },
  {
   "cell_type": "code",
   "execution_count": 4,
   "metadata": {},
   "outputs": [
    {
     "name": "stdout",
     "output_type": "stream",
     "text": [
      "riammissione_30g\n",
      "0    1.0\n",
      "Name: proportion, dtype: float64\n"
     ]
    }
   ],
   "source": [
    "df[\"datric\"] = pd.to_datetime(df[\"datric\"], errors=\"coerce\")\n",
    "df[\"datdim\"] = pd.to_datetime(df[\"datdim\"], errors=\"coerce\")\n",
    "\n",
    "df = df.sort_values(by=[\"patient_id\", \"datric\"])\n",
    "\n",
    "df[\"datdim_prev\"] = df.groupby(\"patient_id\")[\"datdim\"].shift(1)\n",
    "df[\"intervallo_riammissione\"] = (df[\"datric\"] - df[\"datdim_prev\"]).dt.days\n",
    "\n",
    "df[\"riammissione_30g\"] = df[\"intervallo_riammissione\"].apply(lambda x: 1 if pd.notnull(x) and 0 < x <= 30 else 0)\n",
    "df[\"riammissione_90g\"] = df[\"intervallo_riammissione\"].apply(lambda x: 1 if pd.notnull(x) and 0 < x <= 90 else 0)\n",
    "\n",
    "# Verifica\n",
    "print(df[\"riammissione_30g\"].value_counts(normalize=True))"
   ]
  },
  {
   "cell_type": "code",
   "execution_count": 5,
   "metadata": {},
   "outputs": [
    {
     "data": {
      "text/plain": [
       "ricoveri_per_paziente\n",
       "1    21141\n",
       "Name: count, dtype: int64"
      ]
     },
     "execution_count": 5,
     "metadata": {},
     "output_type": "execute_result"
    }
   ],
   "source": [
    "df[\"ricoveri_per_paziente\"] = df.groupby(\"patient_id\")[\"patient_id\"].transform(\"count\")\n",
    "df[\"ricoveri_per_paziente\"].value_counts().sort_index()"
   ]
  },
  {
   "cell_type": "code",
   "execution_count": 6,
   "metadata": {},
   "outputs": [
    {
     "name": "stdout",
     "output_type": "stream",
     "text": [
      "4.7301452154581144e-05 percentuale di NaT in datric\n",
      "4.7301452154581144e-05 percentuale di NaT in datdim\n"
     ]
    }
   ],
   "source": [
    "print(df[\"datric\"].isna().mean(), \"percentuale di NaT in datric\")\n",
    "print(df[\"datdim\"].isna().mean(), \"percentuale di NaT in datdim\")"
   ]
  },
  {
   "cell_type": "markdown",
   "metadata": {},
   "source": [
    "# NON CI SONO RIAMMISSIONI"
   ]
  }
 ],
 "metadata": {
  "kernelspec": {
   "display_name": ".venv",
   "language": "python",
   "name": "python3"
  },
  "language_info": {
   "codemirror_mode": {
    "name": "ipython",
    "version": 3
   },
   "file_extension": ".py",
   "mimetype": "text/x-python",
   "name": "python",
   "nbconvert_exporter": "python",
   "pygments_lexer": "ipython3",
   "version": "3.11.7"
  }
 },
 "nbformat": 4,
 "nbformat_minor": 2
}
